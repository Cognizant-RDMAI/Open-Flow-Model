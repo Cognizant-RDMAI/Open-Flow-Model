{
 "cells": [
  {
   "cell_type": "markdown",
   "id": "18de1a8f-4626-4b34-a91f-2787738a0699",
   "metadata": {},
   "source": [
    "# Libraries"
   ]
  },
  {
   "cell_type": "markdown",
   "id": "4dcbaa7c",
   "metadata": {},
   "source": [
    "## I/O"
   ]
  },
  {
   "cell_type": "code",
   "execution_count": 4,
   "id": "e0e5d07b-d0c2-4c02-acd2-4aa675400ad1",
   "metadata": {
    "tags": []
   },
   "outputs": [],
   "source": [
    "import os\n",
    "from pprint import pprint\n",
    "from util_IO import (\n",
    "    load_pickle_from_main_project_dir,\n",
    "    EDA_dirs_structure,\n",
    "    load_attributes_df,\n",
    "    load_timeseries_df\n",
    ")"
   ]
  },
  {
   "cell_type": "markdown",
   "id": "737b96f9",
   "metadata": {},
   "source": [
    "## Analysis"
   ]
  },
  {
   "cell_type": "code",
   "execution_count": 5,
   "id": "646546b4",
   "metadata": {},
   "outputs": [],
   "source": [
    "import pandas as pd"
   ]
  },
  {
   "cell_type": "markdown",
   "id": "f3535fd9-8cd7-413e-8b21-2b16e6340595",
   "metadata": {},
   "source": [
    "# Settings"
   ]
  },
  {
   "cell_type": "markdown",
   "id": "5448d25c-5a11-4bec-ba8d-b5ac2d6d8579",
   "metadata": {},
   "source": [
    "## Packages"
   ]
  },
  {
   "cell_type": "code",
   "execution_count": 6,
   "id": "fd493f5b-1ba2-4580-a0c2-d26c43a7ae89",
   "metadata": {
    "tags": []
   },
   "outputs": [],
   "source": [
    "# Set pandas to display a maximum of 300 columns\n",
    "pd.set_option('display.max_columns', 300)\n",
    "pd.set_option('display.max_rows', 1000)"
   ]
  },
  {
   "cell_type": "markdown",
   "id": "3cad124f-8946-4805-8b1f-285fdc0cf86a",
   "metadata": {},
   "source": [
    "## Parameters"
   ]
  },
  {
   "cell_type": "markdown",
   "id": "3d8bfdce-f5e5-42dd-8187-e71e8f37bca1",
   "metadata": {},
   "source": [
    "### Load metadata from previous step (*1-DataAggregation.ipynb*)"
   ]
  },
  {
   "cell_type": "code",
   "execution_count": 7,
   "id": "9a69729e-f630-4064-b100-4012da1ced67",
   "metadata": {
    "tags": []
   },
   "outputs": [
    {
     "name": "stdout",
     "output_type": "stream",
     "text": [
      "{'attributes': {'aggregations': {'fundamental': {'chalk_streams_df': ['chalk_stream_flag'],\n",
      "                                                 'climatic_attributes_df': [],\n",
      "                                                 'humaninfluence_attributes_df': ['surfacewater_abs',\n",
      "                                                                                  'groundwater_abs',\n",
      "                                                                                  'discharges',\n",
      "                                                                                  'num_reservoir',\n",
      "                                                                                  'reservoir_cap'],\n",
      "                                                 'hydrogeology_attributes_df': [],\n",
      "                                                 'hydrologic_attributes_df': ['baseflow_index'],\n",
      "                                                 'hydrometry_attributes_df': ['bankfull_flow'],\n",
      "                                                 'landcover_attributes_df': ['dwood_perc',\n",
      "                                                                             'ewood_perc',\n",
      "                                                                             'grass_perc',\n",
      "                                                                             'shrub_perc',\n",
      "                                                                             'crop_perc',\n",
      "                                                                             'urban_perc',\n",
      "                                                                             'inwater_perc',\n",
      "                                                                             'bares_perc'],\n",
      "                                                 'soil_attributes_df': ['sand_perc',\n",
      "                                                                        'silt_perc',\n",
      "                                                                        'clay_perc',\n",
      "                                                                        'organic_perc'],\n",
      "                                                 'topographic_attributes_df': ['gauge_name',\n",
      "                                                                               'gauge_lat',\n",
      "                                                                               'gauge_lon',\n",
      "                                                                               'gauge_elev',\n",
      "                                                                               'area',\n",
      "                                                                               'dpsbar',\n",
      "                                                                               'elev_mean',\n",
      "                                                                               'elev_min',\n",
      "                                                                               'elev_10',\n",
      "                                                                               'elev_50',\n",
      "                                                                               'elev_90',\n",
      "                                                                               'elev_max']}},\n",
      "                'attributes_files_ext': '.csv',\n",
      "                'attributes_index': 'gauge_id'},\n",
      " 'camels_gb_bronze_dir': '/home/jupyter/RDMAI_Sensing/flow-derivation-camels-gb/datasets/camels-gb/data',\n",
      " 'camels_gb_data_attributes_aggr_dir': '/home/jupyter/RDMAI_Sensing/flow-derivation-camels-gb/datasets/camels-gb-aggregated/attributes',\n",
      " 'camels_gb_data_attributes_dir': '/home/jupyter/RDMAI_Sensing/flow-derivation-camels-gb/datasets/camels-gb/data',\n",
      " 'camels_gb_data_timeseries_aggr_dir': '/home/jupyter/RDMAI_Sensing/flow-derivation-camels-gb/datasets/camels-gb-aggregated/timeseries',\n",
      " 'camels_gb_data_timeseries_dir': '/home/jupyter/RDMAI_Sensing/flow-derivation-camels-gb/datasets/camels-gb/data/timeseries',\n",
      " 'camels_gb_datasets_dir': '/home/jupyter/RDMAI_Sensing/flow-derivation-camels-gb/datasets',\n",
      " 'camels_gb_silver_dir': '/home/jupyter/RDMAI_Sensing/flow-derivation-camels-gb/datasets/camels-gb-aggregated',\n",
      " 'camels_gb_use_case_dir': '/home/jupyter/RDMAI_Sensing/flow-derivation-camels-gb',\n",
      " 'timeseries': {'catchmentID_pattern': 'CAMELS_GB_hydromet_timeseries_(.*?)_19701001-20150930',\n",
      "                'date_field': 'date',\n",
      "                'label_field': 'discharge_vol',\n",
      "                'timeseries_aggr_issues_dict': {},\n",
      "                'timeseries_files_ext': '.csv'}}\n"
     ]
    }
   ],
   "source": [
    "aggr_parameters_dict, camels_gb_use_case_dir = load_pickle_from_main_project_dir(\n",
    "    'aggr_parameters_dict.pkl'\n",
    ")\n",
    "\n",
    "# # Print imported variable\n",
    "pprint(aggr_parameters_dict)"
   ]
  },
  {
   "cell_type": "markdown",
   "id": "1e09ac82",
   "metadata": {},
   "source": [
    "### Retrieve variables in use"
   ]
  },
  {
   "cell_type": "code",
   "execution_count": 8,
   "id": "b7055b8d",
   "metadata": {},
   "outputs": [],
   "source": [
    "camels_gb_data_attributes_aggr_dir = aggr_parameters_dict['camels_gb_data_attributes_aggr_dir']\n",
    "camels_gb_data_timeseries_aggr_dir = aggr_parameters_dict['camels_gb_data_timeseries_aggr_dir']\n",
    "attributes_index = aggr_parameters_dict[\"attributes\"][\"attributes_index\"]\n",
    "date_field = aggr_parameters_dict[\"timeseries\"][\"date_field\"]\n",
    "attributes_fundamental_fields = aggr_parameters_dict['attributes']['aggregations']['fundamental']"
   ]
  },
  {
   "cell_type": "markdown",
   "id": "eb724604",
   "metadata": {},
   "source": [
    "# Retrieve aggregated file"
   ]
  },
  {
   "cell_type": "code",
   "execution_count": 9,
   "id": "dcaf0667",
   "metadata": {},
   "outputs": [
    {
     "data": {
      "text/html": [
       "<div>\n",
       "<style scoped>\n",
       "    .dataframe tbody tr th:only-of-type {\n",
       "        vertical-align: middle;\n",
       "    }\n",
       "\n",
       "    .dataframe tbody tr th {\n",
       "        vertical-align: top;\n",
       "    }\n",
       "\n",
       "    .dataframe thead th {\n",
       "        text-align: right;\n",
       "    }\n",
       "</style>\n",
       "<table border=\"1\" class=\"dataframe\">\n",
       "  <thead>\n",
       "    <tr style=\"text-align: right;\">\n",
       "      <th></th>\n",
       "      <th>dwood_perc</th>\n",
       "      <th>ewood_perc</th>\n",
       "      <th>grass_perc</th>\n",
       "      <th>shrub_perc</th>\n",
       "      <th>crop_perc</th>\n",
       "      <th>urban_perc</th>\n",
       "      <th>inwater_perc</th>\n",
       "      <th>bares_perc</th>\n",
       "      <th>baseflow_index</th>\n",
       "      <th>gauge_name</th>\n",
       "      <th>gauge_lat</th>\n",
       "      <th>gauge_lon</th>\n",
       "      <th>gauge_elev</th>\n",
       "      <th>area</th>\n",
       "      <th>dpsbar</th>\n",
       "      <th>elev_mean</th>\n",
       "      <th>elev_min</th>\n",
       "      <th>elev_10</th>\n",
       "      <th>elev_50</th>\n",
       "      <th>elev_90</th>\n",
       "      <th>elev_max</th>\n",
       "      <th>bankfull_flow</th>\n",
       "      <th>sand_perc</th>\n",
       "      <th>silt_perc</th>\n",
       "      <th>clay_perc</th>\n",
       "      <th>organic_perc</th>\n",
       "      <th>surfacewater_abs</th>\n",
       "      <th>groundwater_abs</th>\n",
       "      <th>discharges</th>\n",
       "      <th>num_reservoir</th>\n",
       "      <th>reservoir_cap</th>\n",
       "      <th>chalk_stream_flag</th>\n",
       "      <th>@id</th>\n",
       "      <th>label</th>\n",
       "      <th>query_for_station_specifics</th>\n",
       "      <th>station_code</th>\n",
       "    </tr>\n",
       "    <tr>\n",
       "      <th>gauge_id</th>\n",
       "      <th></th>\n",
       "      <th></th>\n",
       "      <th></th>\n",
       "      <th></th>\n",
       "      <th></th>\n",
       "      <th></th>\n",
       "      <th></th>\n",
       "      <th></th>\n",
       "      <th></th>\n",
       "      <th></th>\n",
       "      <th></th>\n",
       "      <th></th>\n",
       "      <th></th>\n",
       "      <th></th>\n",
       "      <th></th>\n",
       "      <th></th>\n",
       "      <th></th>\n",
       "      <th></th>\n",
       "      <th></th>\n",
       "      <th></th>\n",
       "      <th></th>\n",
       "      <th></th>\n",
       "      <th></th>\n",
       "      <th></th>\n",
       "      <th></th>\n",
       "      <th></th>\n",
       "      <th></th>\n",
       "      <th></th>\n",
       "      <th></th>\n",
       "      <th></th>\n",
       "      <th></th>\n",
       "      <th></th>\n",
       "      <th></th>\n",
       "      <th></th>\n",
       "      <th></th>\n",
       "      <th></th>\n",
       "    </tr>\n",
       "  </thead>\n",
       "  <tbody>\n",
       "    <tr>\n",
       "      <th>101002</th>\n",
       "      <td>6.20</td>\n",
       "      <td>0.30</td>\n",
       "      <td>42.78</td>\n",
       "      <td>0.38</td>\n",
       "      <td>46.34</td>\n",
       "      <td>3.28</td>\n",
       "      <td>0.49</td>\n",
       "      <td>0.56</td>\n",
       "      <td>0.68</td>\n",
       "      <td>Medina at Shide</td>\n",
       "      <td>50.69</td>\n",
       "      <td>-1.29</td>\n",
       "      <td>10.4</td>\n",
       "      <td>30.61</td>\n",
       "      <td>80.0</td>\n",
       "      <td>60.0</td>\n",
       "      <td>9.4</td>\n",
       "      <td>26.8</td>\n",
       "      <td>56.8</td>\n",
       "      <td>98.0</td>\n",
       "      <td>193.2</td>\n",
       "      <td>17.8</td>\n",
       "      <td>70.99</td>\n",
       "      <td>15.36</td>\n",
       "      <td>13.66</td>\n",
       "      <td>0.43</td>\n",
       "      <td>0.006</td>\n",
       "      <td>0.023</td>\n",
       "      <td>0.018</td>\n",
       "      <td>0</td>\n",
       "      <td>0</td>\n",
       "      <td>True</td>\n",
       "      <td>http://environment.data.gov.uk/hydrology/id/st...</td>\n",
       "      <td>Shide</td>\n",
       "      <td>https://environment.data.gov.uk/hydrology/id/m...</td>\n",
       "      <td>69f4b3e5-a487-4769-aded-0d72062428e7</td>\n",
       "    </tr>\n",
       "    <tr>\n",
       "      <th>101005</th>\n",
       "      <td>4.60</td>\n",
       "      <td>0.12</td>\n",
       "      <td>59.24</td>\n",
       "      <td>0.25</td>\n",
       "      <td>31.08</td>\n",
       "      <td>4.78</td>\n",
       "      <td>0.05</td>\n",
       "      <td>0.00</td>\n",
       "      <td>0.62</td>\n",
       "      <td>Eastern Yar at Budbridge</td>\n",
       "      <td>50.65</td>\n",
       "      <td>-1.25</td>\n",
       "      <td>17.2</td>\n",
       "      <td>24.31</td>\n",
       "      <td>87.0</td>\n",
       "      <td>92.0</td>\n",
       "      <td>17.2</td>\n",
       "      <td>32.9</td>\n",
       "      <td>84.0</td>\n",
       "      <td>157.2</td>\n",
       "      <td>234.6</td>\n",
       "      <td>NaN</td>\n",
       "      <td>71.01</td>\n",
       "      <td>15.56</td>\n",
       "      <td>13.45</td>\n",
       "      <td>0.45</td>\n",
       "      <td>0.001</td>\n",
       "      <td>0.015</td>\n",
       "      <td>0.053</td>\n",
       "      <td>0</td>\n",
       "      <td>0</td>\n",
       "      <td>True</td>\n",
       "      <td>http://environment.data.gov.uk/hydrology/id/st...</td>\n",
       "      <td>Budbridge</td>\n",
       "      <td>https://environment.data.gov.uk/hydrology/id/m...</td>\n",
       "      <td>c10d61a3-fc5d-4d96-bf9f-57a97b6256c0</td>\n",
       "    </tr>\n",
       "    <tr>\n",
       "      <th>22001</th>\n",
       "      <td>5.87</td>\n",
       "      <td>9.60</td>\n",
       "      <td>59.92</td>\n",
       "      <td>11.13</td>\n",
       "      <td>12.49</td>\n",
       "      <td>0.95</td>\n",
       "      <td>0.13</td>\n",
       "      <td>0.00</td>\n",
       "      <td>0.51</td>\n",
       "      <td>Coquet at Morwick</td>\n",
       "      <td>55.33</td>\n",
       "      <td>-1.63</td>\n",
       "      <td>5.2</td>\n",
       "      <td>578.25</td>\n",
       "      <td>110.0</td>\n",
       "      <td>225.0</td>\n",
       "      <td>5.2</td>\n",
       "      <td>79.3</td>\n",
       "      <td>192.8</td>\n",
       "      <td>420.0</td>\n",
       "      <td>774.5</td>\n",
       "      <td>175.0</td>\n",
       "      <td>45.16</td>\n",
       "      <td>31.88</td>\n",
       "      <td>22.96</td>\n",
       "      <td>4.13</td>\n",
       "      <td>0.000</td>\n",
       "      <td>0.006</td>\n",
       "      <td>0.004</td>\n",
       "      <td>0</td>\n",
       "      <td>0</td>\n",
       "      <td>False</td>\n",
       "      <td>http://environment.data.gov.uk/hydrology/id/st...</td>\n",
       "      <td>Morwick</td>\n",
       "      <td>https://environment.data.gov.uk/hydrology/id/m...</td>\n",
       "      <td>3df7a9c3-d40c-4781-a885-5f6b7abdb86a</td>\n",
       "    </tr>\n",
       "  </tbody>\n",
       "</table>\n",
       "</div>"
      ],
      "text/plain": [
       "          dwood_perc  ewood_perc  grass_perc  shrub_perc  crop_perc  \\\n",
       "gauge_id                                                              \n",
       "101002          6.20        0.30       42.78        0.38      46.34   \n",
       "101005          4.60        0.12       59.24        0.25      31.08   \n",
       "22001           5.87        9.60       59.92       11.13      12.49   \n",
       "\n",
       "          urban_perc  inwater_perc  bares_perc  baseflow_index  \\\n",
       "gauge_id                                                         \n",
       "101002          3.28          0.49        0.56            0.68   \n",
       "101005          4.78          0.05        0.00            0.62   \n",
       "22001           0.95          0.13        0.00            0.51   \n",
       "\n",
       "                        gauge_name  gauge_lat  gauge_lon  gauge_elev    area  \\\n",
       "gauge_id                                                                       \n",
       "101002             Medina at Shide      50.69      -1.29        10.4   30.61   \n",
       "101005    Eastern Yar at Budbridge      50.65      -1.25        17.2   24.31   \n",
       "22001            Coquet at Morwick      55.33      -1.63         5.2  578.25   \n",
       "\n",
       "          dpsbar  elev_mean  elev_min  elev_10  elev_50  elev_90  elev_max  \\\n",
       "gauge_id                                                                     \n",
       "101002      80.0       60.0       9.4     26.8     56.8     98.0     193.2   \n",
       "101005      87.0       92.0      17.2     32.9     84.0    157.2     234.6   \n",
       "22001      110.0      225.0       5.2     79.3    192.8    420.0     774.5   \n",
       "\n",
       "          bankfull_flow  sand_perc  silt_perc  clay_perc  organic_perc  \\\n",
       "gauge_id                                                                 \n",
       "101002             17.8      70.99      15.36      13.66          0.43   \n",
       "101005              NaN      71.01      15.56      13.45          0.45   \n",
       "22001             175.0      45.16      31.88      22.96          4.13   \n",
       "\n",
       "          surfacewater_abs  groundwater_abs  discharges  num_reservoir  \\\n",
       "gauge_id                                                                 \n",
       "101002               0.006            0.023       0.018              0   \n",
       "101005               0.001            0.015       0.053              0   \n",
       "22001                0.000            0.006       0.004              0   \n",
       "\n",
       "          reservoir_cap  chalk_stream_flag  \\\n",
       "gauge_id                                     \n",
       "101002                0               True   \n",
       "101005                0               True   \n",
       "22001                 0              False   \n",
       "\n",
       "                                                        @id      label  \\\n",
       "gauge_id                                                                 \n",
       "101002    http://environment.data.gov.uk/hydrology/id/st...      Shide   \n",
       "101005    http://environment.data.gov.uk/hydrology/id/st...  Budbridge   \n",
       "22001     http://environment.data.gov.uk/hydrology/id/st...    Morwick   \n",
       "\n",
       "                                query_for_station_specifics  \\\n",
       "gauge_id                                                      \n",
       "101002    https://environment.data.gov.uk/hydrology/id/m...   \n",
       "101005    https://environment.data.gov.uk/hydrology/id/m...   \n",
       "22001     https://environment.data.gov.uk/hydrology/id/m...   \n",
       "\n",
       "                                  station_code  \n",
       "gauge_id                                        \n",
       "101002    69f4b3e5-a487-4769-aded-0d72062428e7  \n",
       "101005    c10d61a3-fc5d-4d96-bf9f-57a97b6256c0  \n",
       "22001     3df7a9c3-d40c-4781-a885-5f6b7abdb86a  "
      ]
     },
     "metadata": {},
     "output_type": "display_data"
    },
    {
     "data": {
      "text/html": [
       "<div>\n",
       "<style scoped>\n",
       "    .dataframe tbody tr th:only-of-type {\n",
       "        vertical-align: middle;\n",
       "    }\n",
       "\n",
       "    .dataframe tbody tr th {\n",
       "        vertical-align: top;\n",
       "    }\n",
       "\n",
       "    .dataframe thead th {\n",
       "        text-align: right;\n",
       "    }\n",
       "</style>\n",
       "<table border=\"1\" class=\"dataframe\">\n",
       "  <thead>\n",
       "    <tr style=\"text-align: right;\">\n",
       "      <th></th>\n",
       "      <th>catchmentID</th>\n",
       "      <th>date</th>\n",
       "      <th>precipitation</th>\n",
       "      <th>pet</th>\n",
       "      <th>temperature</th>\n",
       "      <th>discharge_spec</th>\n",
       "      <th>discharge_vol_files</th>\n",
       "      <th>peti</th>\n",
       "      <th>humidity</th>\n",
       "      <th>shortwave_rad</th>\n",
       "      <th>longwave_rad</th>\n",
       "      <th>windspeed</th>\n",
       "      <th>discharge_vol</th>\n",
       "      <th>date_diff</th>\n",
       "      <th>date_consecutive_day</th>\n",
       "      <th>date_group</th>\n",
       "    </tr>\n",
       "  </thead>\n",
       "  <tbody>\n",
       "    <tr>\n",
       "      <th>0</th>\n",
       "      <td>101002</td>\n",
       "      <td>1997-03-01</td>\n",
       "      <td>0.26</td>\n",
       "      <td>0.70</td>\n",
       "      <td>8.31</td>\n",
       "      <td>0.90</td>\n",
       "      <td>0.32</td>\n",
       "      <td>0.93</td>\n",
       "      <td>6.11</td>\n",
       "      <td>73.68</td>\n",
       "      <td>320.09</td>\n",
       "      <td>6.23</td>\n",
       "      <td>0.319</td>\n",
       "      <td>0.0</td>\n",
       "      <td>False</td>\n",
       "      <td>00</td>\n",
       "    </tr>\n",
       "    <tr>\n",
       "      <th>1</th>\n",
       "      <td>101002</td>\n",
       "      <td>1997-03-02</td>\n",
       "      <td>0.10</td>\n",
       "      <td>1.42</td>\n",
       "      <td>9.55</td>\n",
       "      <td>0.89</td>\n",
       "      <td>0.31</td>\n",
       "      <td>1.68</td>\n",
       "      <td>5.64</td>\n",
       "      <td>89.11</td>\n",
       "      <td>315.49</td>\n",
       "      <td>6.51</td>\n",
       "      <td>0.314</td>\n",
       "      <td>1.0</td>\n",
       "      <td>False</td>\n",
       "      <td>00</td>\n",
       "    </tr>\n",
       "    <tr>\n",
       "      <th>2</th>\n",
       "      <td>101002</td>\n",
       "      <td>1997-03-03</td>\n",
       "      <td>24.15</td>\n",
       "      <td>0.53</td>\n",
       "      <td>5.84</td>\n",
       "      <td>1.12</td>\n",
       "      <td>0.40</td>\n",
       "      <td>0.65</td>\n",
       "      <td>4.98</td>\n",
       "      <td>51.62</td>\n",
       "      <td>320.09</td>\n",
       "      <td>2.75</td>\n",
       "      <td>0.397</td>\n",
       "      <td>1.0</td>\n",
       "      <td>False</td>\n",
       "      <td>00</td>\n",
       "    </tr>\n",
       "  </tbody>\n",
       "</table>\n",
       "</div>"
      ],
      "text/plain": [
       "  catchmentID        date  precipitation   pet  temperature  discharge_spec  \\\n",
       "0      101002  1997-03-01           0.26  0.70         8.31            0.90   \n",
       "1      101002  1997-03-02           0.10  1.42         9.55            0.89   \n",
       "2      101002  1997-03-03          24.15  0.53         5.84            1.12   \n",
       "\n",
       "   discharge_vol_files  peti  humidity  shortwave_rad  longwave_rad  \\\n",
       "0                 0.32  0.93      6.11          73.68        320.09   \n",
       "1                 0.31  1.68      5.64          89.11        315.49   \n",
       "2                 0.40  0.65      4.98          51.62        320.09   \n",
       "\n",
       "   windspeed  discharge_vol  date_diff  date_consecutive_day date_group  \n",
       "0       6.23          0.319        0.0                 False         00  \n",
       "1       6.51          0.314        1.0                 False         00  \n",
       "2       2.75          0.397        1.0                 False         00  "
      ]
     },
     "metadata": {},
     "output_type": "display_data"
    }
   ],
   "source": [
    "# Attributes\n",
    "attributes_df = load_attributes_df(\n",
    "    camels_gb_data_attributes_aggr_dir,\n",
    "    \"fundamental.csv\",\n",
    "    attributes_index\n",
    ")\n",
    "\n",
    "display(attributes_df.head(3))\n",
    "\n",
    "# Timeseries\n",
    "timeseries_df = load_timeseries_df(\n",
    "    camels_gb_data_timeseries_aggr_dir,\n",
    "    \"timeseries.csv\",\n",
    "    date_field\n",
    ")\n",
    "\n",
    "display(timeseries_df.head(3))"
   ]
  },
  {
   "cell_type": "markdown",
   "id": "3b0e252c-3b3b-4377-9c06-e1a2bdcd266f",
   "metadata": {},
   "source": [
    "# Columns removal"
   ]
  },
  {
   "cell_type": "markdown",
   "id": "ba354ad9-44e1-4161-96d8-2539f4f7535a",
   "metadata": {},
   "source": [
    "## Columns removal for ***attributes***"
   ]
  },
  {
   "cell_type": "markdown",
   "id": "f48829c7-33fe-4884-aa33-8a000538216c",
   "metadata": {},
   "source": [
    "As shown in ***02a-EDA-Attributes***, the only dataset with `NaN` values is the one related to ***attributes***. Columns to remove are:\n",
    " - **bankfull_flow**"
   ]
  },
  {
   "cell_type": "code",
   "execution_count": 10,
   "id": "d4321081-d3d9-4d24-a124-80474c194d50",
   "metadata": {
    "tags": []
   },
   "outputs": [],
   "source": [
    "# Define columns to be removed\n",
    "columns_to_remove = [\n",
    "    'bankfull_flow'\n",
    "]"
   ]
  },
  {
   "cell_type": "code",
   "execution_count": 11,
   "id": "402722f0-dfb9-4125-9784-73c4e13a9184",
   "metadata": {
    "tags": []
   },
   "outputs": [],
   "source": [
    "# Reduce the columns to the dimensions to use in the model\n",
    "attributes_df = (\n",
    "    attributes_df[\n",
    "        [col for sublist in attributes_fundamental_fields.values() for col in sublist]\n",
    "    ]\n",
    ")\n",
    "\n",
    "# Removing columns because of NaN\n",
    "attributes_postEDA_df = (\n",
    "    attributes_df\n",
    "        .drop(\n",
    "            columns=columns_to_remove\n",
    "        )\n",
    ")"
   ]
  },
  {
   "cell_type": "markdown",
   "id": "a998b943-127f-4d49-852d-fff5d6fc2191",
   "metadata": {
    "tags": []
   },
   "source": [
    "## Column removal for ***timeseries***"
   ]
  },
  {
   "cell_type": "code",
   "execution_count": 12,
   "id": "384cf664-4793-4a0f-9efa-b42a479d775a",
   "metadata": {
    "tags": []
   },
   "outputs": [],
   "source": [
    "# Define columns to be removed\n",
    "columns_to_remove = [\n",
    "    'pet',\n",
    "    'peti',\n",
    "    'discharge_spec',\n",
    "    'discharge_vol_files',\n",
    "    'date_diff',\n",
    "    'date_consecutive_day'\n",
    "]\n",
    "\n",
    "# Removing columns\n",
    "timeseries_postEDA_df = (\n",
    "    timeseries_df\n",
    "        .drop(\n",
    "            columns=columns_to_remove\n",
    "        )\n",
    ")"
   ]
  },
  {
   "cell_type": "markdown",
   "id": "a448368d-68c0-4062-992e-60e5488ffa30",
   "metadata": {
    "tags": []
   },
   "source": [
    "# Rows removal"
   ]
  },
  {
   "cell_type": "markdown",
   "id": "59731ec6-2807-4445-aaea-50805d86edfa",
   "metadata": {},
   "source": [
    "## ***attributes*** with `NaN`"
   ]
  },
  {
   "cell_type": "code",
   "execution_count": 13,
   "id": "95b0d133-c8c1-43e7-97eb-e1c42cfad66a",
   "metadata": {
    "tags": []
   },
   "outputs": [
    {
     "name": "stdout",
     "output_type": "stream",
     "text": [
      "['26006']\n"
     ]
    }
   ],
   "source": [
    "# Identify rows with at least one NaN value\n",
    "catchmentsID_with_nan_list = attributes_postEDA_df[attributes_postEDA_df.isna().any(axis=1)].index.to_list()\n",
    "\n",
    "print(catchmentsID_with_nan_list)"
   ]
  },
  {
   "cell_type": "code",
   "execution_count": 14,
   "id": "6becf420-ca96-4b1d-aa8d-79e99cbb0a34",
   "metadata": {
    "tags": []
   },
   "outputs": [],
   "source": [
    "# Drop rows with at least one NaN value\n",
    "attributes_postEDA_df.dropna(\n",
    "    inplace=True\n",
    ")"
   ]
  },
  {
   "cell_type": "markdown",
   "id": "7391babf-d5db-46b2-9171-a1ca79a3079d",
   "metadata": {
    "tags": []
   },
   "source": [
    "## Catchments removal because not in common"
   ]
  },
  {
   "cell_type": "code",
   "execution_count": 15,
   "id": "ef024d61",
   "metadata": {},
   "outputs": [],
   "source": [
    "# Sets definitions\n",
    "attributes_set = set(attributes_postEDA_df.index)\n",
    "timeseries_set = set(timeseries_postEDA_df['catchmentID'])"
   ]
  },
  {
   "cell_type": "markdown",
   "id": "b95c3082",
   "metadata": {},
   "source": [
    "### Catchments in ***attributes***, but NOT in ***timeseries***"
   ]
  },
  {
   "cell_type": "code",
   "execution_count": 16,
   "id": "d211e7e6",
   "metadata": {},
   "outputs": [
    {
     "name": "stdout",
     "output_type": "stream",
     "text": [
      "{'39004', '27002', '39095', '71014', '43021', '26005', '39016', '42016', '27062'}\n"
     ]
    }
   ],
   "source": [
    "# Identify elements present in attributes but not in timeseries\n",
    "attributes_not_in_timeseries = attributes_set - timeseries_set\n",
    "\n",
    "print(attributes_not_in_timeseries)"
   ]
  },
  {
   "cell_type": "markdown",
   "id": "8f5fd876",
   "metadata": {},
   "source": [
    "### Catchments in timeseries, but NOT in attributes"
   ]
  },
  {
   "cell_type": "code",
   "execution_count": 17,
   "id": "8817744e",
   "metadata": {},
   "outputs": [
    {
     "name": "stdout",
     "output_type": "stream",
     "text": [
      "{'26006'}\n"
     ]
    }
   ],
   "source": [
    "# Identify elements present in timeseries but not in attributes\n",
    "timeseries_not_in_attributes = timeseries_set - attributes_set\n",
    "\n",
    "print(timeseries_not_in_attributes)"
   ]
  },
  {
   "cell_type": "markdown",
   "id": "e8793817",
   "metadata": {},
   "source": [
    "### Filter out for common catchments only"
   ]
  },
  {
   "cell_type": "code",
   "execution_count": 18,
   "id": "7b665159",
   "metadata": {},
   "outputs": [],
   "source": [
    "# Identify common elements\n",
    "common_elements = list(attributes_set & timeseries_set)\n",
    "\n",
    "# Filter attributes to include only common elements\n",
    "attributes_postEDA_df = (\n",
    "    attributes_postEDA_df\n",
    "        .loc[common_elements]\n",
    ")\n",
    "\n",
    "# Filter timeseries_df to include only common elements\n",
    "timeseries_postEDA_df = (\n",
    "    timeseries_postEDA_df[\n",
    "        timeseries_postEDA_df['catchmentID']\n",
    "            .isin(common_elements)\n",
    "    ]\n",
    ")"
   ]
  },
  {
   "cell_type": "markdown",
   "id": "b888aedb-dc3e-4fc1-8db7-d6f6e6eeeae2",
   "metadata": {},
   "source": [
    "## Check on `catchmentID` coherence"
   ]
  },
  {
   "cell_type": "code",
   "execution_count": 20,
   "id": "8153e77f-618a-4b2b-8c05-ed1a7383ac4d",
   "metadata": {
    "tags": []
   },
   "outputs": [],
   "source": [
    "# Check\n",
    "assert set(timeseries_postEDA_df['catchmentID'].unique()) == set(attributes_postEDA_df.index), (\n",
    "    \"Catchment IDs for the two datasets are NOT corresponding\"\n",
    ")"
   ]
  },
  {
   "cell_type": "markdown",
   "id": "72fc6bb0-4076-4f2b-bf70-e32053a588b7",
   "metadata": {},
   "source": [
    "# Save"
   ]
  },
  {
   "cell_type": "code",
   "execution_count": 21,
   "id": "17b610cf-5d61-4b2c-8e91-db8d3f7d203a",
   "metadata": {
    "tags": []
   },
   "outputs": [],
   "source": [
    "# _____________________\n",
    "# attributes_postEDA_df\n",
    "\n",
    "# Define path to save\n",
    "path = os.path.join(\n",
    "        camels_gb_data_attributes_aggr_dir,\n",
    "        \"fundamental_postEDA.csv\"\n",
    ")\n",
    "\n",
    "# Save\n",
    "attributes_postEDA_df.to_csv(path)\n",
    "\n",
    "# _____________________\n",
    "# timeseries_postEDA_df\n",
    "\n",
    "# Define path to save\n",
    "path = os.path.join(\n",
    "        camels_gb_data_timeseries_aggr_dir,\n",
    "        \"timeseries_postEDA.csv\"\n",
    ")\n",
    "\n",
    "# Save\n",
    "timeseries_postEDA_df.to_csv(\n",
    "    path,\n",
    "    index=False\n",
    ")"
   ]
  }
 ],
 "metadata": {
  "environment": {
   "kernel": "mlflow-geo-inequalipy-venn-missingno",
   "name": "workbench-notebooks.m129",
   "type": "gcloud",
   "uri": "us-docker.pkg.dev/deeplearning-platform-release/gcr.io/workbench-notebooks:m129"
  },
  "kernelspec": {
   "display_name": "Mlflow-Geo-Inequalipy-Venn-Missingno (Local)",
   "language": "python",
   "name": "mlflow-geo-inequalipy-venn-missingno"
  },
  "language_info": {
   "codemirror_mode": {
    "name": "ipython",
    "version": 3
   },
   "file_extension": ".py",
   "mimetype": "text/x-python",
   "name": "python",
   "nbconvert_exporter": "python",
   "pygments_lexer": "ipython3",
   "version": "3.10.16"
  }
 },
 "nbformat": 4,
 "nbformat_minor": 5
}
